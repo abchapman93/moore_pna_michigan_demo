{
 "cells": [
  {
   "cell_type": "code",
   "execution_count": 10,
   "id": "f913d29b",
   "metadata": {},
   "outputs": [],
   "source": [
    "import medspacy_pna\n",
    "from medspacy.visualization import visualize_ent\n",
    "from medspacy_pna.util import add_additional_resources\n",
    "\n",
    "import pandas as pd"
   ]
  },
  {
   "cell_type": "markdown",
   "id": "bffc665c",
   "metadata": {},
   "source": [
    "# Load NLP and customize"
   ]
  },
  {
   "cell_type": "code",
   "execution_count": 2,
   "id": "123c9690",
   "metadata": {},
   "outputs": [
    {
     "name": "stderr",
     "output_type": "stream",
     "text": [
      "/Users/alecchapman/opt/miniconda3/envs/medspacy_pneumonia/lib/python3.9/site-packages/medspacy-0.2.0.0-py3.9.egg/medspacy/common/regex_matcher.py:60: RuntimeWarning: You are using a TargetRule with a regex pattern, which is not natively supported in spacy and may lead to unexpected match spans. Consider using a list of dicts pattern instead. See https://spacy.io/usage/rule-based-matching\n",
      "  warnings.warn(\n",
      "/Users/alecchapman/opt/miniconda3/envs/medspacy_pneumonia/lib/python3.9/site-packages/medspacy-0.2.0.0-py3.9.egg/medspacy/common/regex_matcher.py:60: RuntimeWarning: You are using a TargetRule with a regex pattern, which is not natively supported in spacy and may lead to unexpected match spans. Consider using a list of dicts pattern instead. See https://spacy.io/usage/rule-based-matching\n",
      "  warnings.warn(\n",
      "/Users/alecchapman/opt/miniconda3/envs/medspacy_pneumonia/lib/python3.9/site-packages/medspacy-0.2.0.0-py3.9.egg/medspacy/common/regex_matcher.py:60: RuntimeWarning: You are using a TargetRule with a regex pattern, which is not natively supported in spacy and may lead to unexpected match spans. Consider using a list of dicts pattern instead. See https://spacy.io/usage/rule-based-matching\n",
      "  warnings.warn(\n",
      "/Users/alecchapman/opt/miniconda3/envs/medspacy_pneumonia/lib/python3.9/site-packages/medspacy-0.2.0.0-py3.9.egg/medspacy/common/regex_matcher.py:60: RuntimeWarning: You are using a TargetRule with a regex pattern, which is not natively supported in spacy and may lead to unexpected match spans. Consider using a list of dicts pattern instead. See https://spacy.io/usage/rule-based-matching\n",
      "  warnings.warn(\n",
      "/Users/alecchapman/opt/miniconda3/envs/medspacy_pneumonia/lib/python3.9/site-packages/medspacy-0.2.0.0-py3.9.egg/medspacy/common/regex_matcher.py:60: RuntimeWarning: You are using a TargetRule with a regex pattern, which is not natively supported in spacy and may lead to unexpected match spans. Consider using a list of dicts pattern instead. See https://spacy.io/usage/rule-based-matching\n",
      "  warnings.warn(\n",
      "/Users/alecchapman/opt/miniconda3/envs/medspacy_pneumonia/lib/python3.9/site-packages/medspacy-0.2.0.0-py3.9.egg/medspacy/common/regex_matcher.py:60: RuntimeWarning: You are using a TargetRule with a regex pattern, which is not natively supported in spacy and may lead to unexpected match spans. Consider using a list of dicts pattern instead. See https://spacy.io/usage/rule-based-matching\n",
      "  warnings.warn(\n",
      "/Users/alecchapman/opt/miniconda3/envs/medspacy_pneumonia/lib/python3.9/site-packages/medspacy-0.2.0.0-py3.9.egg/medspacy/common/regex_matcher.py:60: RuntimeWarning: You are using a TargetRule with a regex pattern, which is not natively supported in spacy and may lead to unexpected match spans. Consider using a list of dicts pattern instead. See https://spacy.io/usage/rule-based-matching\n",
      "  warnings.warn(\n",
      "/Users/alecchapman/opt/miniconda3/envs/medspacy_pneumonia/lib/python3.9/site-packages/medspacy-0.2.0.0-py3.9.egg/medspacy/common/regex_matcher.py:60: RuntimeWarning: You are using a TargetRule with a regex pattern, which is not natively supported in spacy and may lead to unexpected match spans. Consider using a list of dicts pattern instead. See https://spacy.io/usage/rule-based-matching\n",
      "  warnings.warn(\n",
      "/Users/alecchapman/opt/miniconda3/envs/medspacy_pneumonia/lib/python3.9/site-packages/medspacy-0.2.0.0-py3.9.egg/medspacy/common/regex_matcher.py:60: RuntimeWarning: You are using a TargetRule with a regex pattern, which is not natively supported in spacy and may lead to unexpected match spans. Consider using a list of dicts pattern instead. See https://spacy.io/usage/rule-based-matching\n",
      "  warnings.warn(\n",
      "/Users/alecchapman/opt/miniconda3/envs/medspacy_pneumonia/lib/python3.9/site-packages/medspacy-0.2.0.0-py3.9.egg/medspacy/common/regex_matcher.py:60: RuntimeWarning: You are using a TargetRule with a regex pattern, which is not natively supported in spacy and may lead to unexpected match spans. Consider using a list of dicts pattern instead. See https://spacy.io/usage/rule-based-matching\n",
      "  warnings.warn(\n",
      "/Users/alecchapman/opt/miniconda3/envs/medspacy_pneumonia/lib/python3.9/site-packages/medspacy-0.2.0.0-py3.9.egg/medspacy/common/regex_matcher.py:60: RuntimeWarning: You are using a TargetRule with a regex pattern, which is not natively supported in spacy and may lead to unexpected match spans. Consider using a list of dicts pattern instead. See https://spacy.io/usage/rule-based-matching\n",
      "  warnings.warn(\n",
      "/Users/alecchapman/opt/miniconda3/envs/medspacy_pneumonia/lib/python3.9/site-packages/medspacy-0.2.0.0-py3.9.egg/medspacy/common/regex_matcher.py:60: RuntimeWarning: You are using a TargetRule with a regex pattern, which is not natively supported in spacy and may lead to unexpected match spans. Consider using a list of dicts pattern instead. See https://spacy.io/usage/rule-based-matching\n",
      "  warnings.warn(\n",
      "/Users/alecchapman/opt/miniconda3/envs/medspacy_pneumonia/lib/python3.9/site-packages/medspacy-0.2.0.0-py3.9.egg/medspacy/common/regex_matcher.py:60: RuntimeWarning: You are using a TargetRule with a regex pattern, which is not natively supported in spacy and may lead to unexpected match spans. Consider using a list of dicts pattern instead. See https://spacy.io/usage/rule-based-matching\n",
      "  warnings.warn(\n",
      "/Users/alecchapman/opt/miniconda3/envs/medspacy_pneumonia/lib/python3.9/site-packages/medspacy-0.2.0.0-py3.9.egg/medspacy/common/regex_matcher.py:60: RuntimeWarning: You are using a TargetRule with a regex pattern, which is not natively supported in spacy and may lead to unexpected match spans. Consider using a list of dicts pattern instead. See https://spacy.io/usage/rule-based-matching\n",
      "  warnings.warn(\n",
      "/Users/alecchapman/opt/miniconda3/envs/medspacy_pneumonia/lib/python3.9/site-packages/medspacy-0.2.0.0-py3.9.egg/medspacy/common/regex_matcher.py:60: RuntimeWarning: You are using a TargetRule with a regex pattern, which is not natively supported in spacy and may lead to unexpected match spans. Consider using a list of dicts pattern instead. See https://spacy.io/usage/rule-based-matching\n",
      "  warnings.warn(\n",
      "/Users/alecchapman/opt/miniconda3/envs/medspacy_pneumonia/lib/python3.9/site-packages/medspacy-0.2.0.0-py3.9.egg/medspacy/common/regex_matcher.py:60: RuntimeWarning: You are using a TargetRule with a regex pattern, which is not natively supported in spacy and may lead to unexpected match spans. Consider using a list of dicts pattern instead. See https://spacy.io/usage/rule-based-matching\n",
      "  warnings.warn(\n",
      "/Users/alecchapman/opt/miniconda3/envs/medspacy_pneumonia/lib/python3.9/site-packages/medspacy-0.2.0.0-py3.9.egg/medspacy/common/regex_matcher.py:60: RuntimeWarning: You are using a TargetRule with a regex pattern, which is not natively supported in spacy and may lead to unexpected match spans. Consider using a list of dicts pattern instead. See https://spacy.io/usage/rule-based-matching\n",
      "  warnings.warn(\n",
      "/Users/alecchapman/opt/miniconda3/envs/medspacy_pneumonia/lib/python3.9/site-packages/medspacy-0.2.0.0-py3.9.egg/medspacy/common/regex_matcher.py:60: RuntimeWarning: You are using a TargetRule with a regex pattern, which is not natively supported in spacy and may lead to unexpected match spans. Consider using a list of dicts pattern instead. See https://spacy.io/usage/rule-based-matching\n",
      "  warnings.warn(\n",
      "/Users/alecchapman/opt/miniconda3/envs/medspacy_pneumonia/lib/python3.9/site-packages/medspacy-0.2.0.0-py3.9.egg/medspacy/common/regex_matcher.py:60: RuntimeWarning: You are using a TargetRule with a regex pattern, which is not natively supported in spacy and may lead to unexpected match spans. Consider using a list of dicts pattern instead. See https://spacy.io/usage/rule-based-matching\n",
      "  warnings.warn(\n",
      "/Users/alecchapman/opt/miniconda3/envs/medspacy_pneumonia/lib/python3.9/site-packages/medspacy-0.2.0.0-py3.9.egg/medspacy/common/regex_matcher.py:60: RuntimeWarning: You are using a TargetRule with a regex pattern, which is not natively supported in spacy and may lead to unexpected match spans. Consider using a list of dicts pattern instead. See https://spacy.io/usage/rule-based-matching\n",
      "  warnings.warn(\n",
      "/Users/alecchapman/opt/miniconda3/envs/medspacy_pneumonia/lib/python3.9/site-packages/medspacy-0.2.0.0-py3.9.egg/medspacy/common/regex_matcher.py:60: RuntimeWarning: You are using a TargetRule with a regex pattern, which is not natively supported in spacy and may lead to unexpected match spans. Consider using a list of dicts pattern instead. See https://spacy.io/usage/rule-based-matching\n",
      "  warnings.warn(\n",
      "/Users/alecchapman/opt/miniconda3/envs/medspacy_pneumonia/lib/python3.9/site-packages/medspacy-0.2.0.0-py3.9.egg/medspacy/common/regex_matcher.py:60: RuntimeWarning: You are using a TargetRule with a regex pattern, which is not natively supported in spacy and may lead to unexpected match spans. Consider using a list of dicts pattern instead. See https://spacy.io/usage/rule-based-matching\n",
      "  warnings.warn(\n",
      "/Users/alecchapman/opt/miniconda3/envs/medspacy_pneumonia/lib/python3.9/site-packages/medspacy-0.2.0.0-py3.9.egg/medspacy/common/regex_matcher.py:60: RuntimeWarning: You are using a TargetRule with a regex pattern, which is not natively supported in spacy and may lead to unexpected match spans. Consider using a list of dicts pattern instead. See https://spacy.io/usage/rule-based-matching\n",
      "  warnings.warn(\n",
      "/Users/alecchapman/opt/miniconda3/envs/medspacy_pneumonia/lib/python3.9/site-packages/medspacy-0.2.0.0-py3.9.egg/medspacy/common/regex_matcher.py:60: RuntimeWarning: You are using a TargetRule with a regex pattern, which is not natively supported in spacy and may lead to unexpected match spans. Consider using a list of dicts pattern instead. See https://spacy.io/usage/rule-based-matching\n",
      "  warnings.warn(\n",
      "/Users/alecchapman/opt/miniconda3/envs/medspacy_pneumonia/lib/python3.9/site-packages/medspacy-0.2.0.0-py3.9.egg/medspacy/common/regex_matcher.py:60: RuntimeWarning: You are using a TargetRule with a regex pattern, which is not natively supported in spacy and may lead to unexpected match spans. Consider using a list of dicts pattern instead. See https://spacy.io/usage/rule-based-matching\n",
      "  warnings.warn(\n",
      "/Users/alecchapman/opt/miniconda3/envs/medspacy_pneumonia/lib/python3.9/site-packages/medspacy-0.2.0.0-py3.9.egg/medspacy/common/regex_matcher.py:60: RuntimeWarning: You are using a TargetRule with a regex pattern, which is not natively supported in spacy and may lead to unexpected match spans. Consider using a list of dicts pattern instead. See https://spacy.io/usage/rule-based-matching\n",
      "  warnings.warn(\n",
      "/Users/alecchapman/opt/miniconda3/envs/medspacy_pneumonia/lib/python3.9/site-packages/medspacy-0.2.0.0-py3.9.egg/medspacy/common/regex_matcher.py:60: RuntimeWarning: You are using a TargetRule with a regex pattern, which is not natively supported in spacy and may lead to unexpected match spans. Consider using a list of dicts pattern instead. See https://spacy.io/usage/rule-based-matching\n",
      "  warnings.warn(\n",
      "/Users/alecchapman/opt/miniconda3/envs/medspacy_pneumonia/lib/python3.9/site-packages/medspacy-0.2.0.0-py3.9.egg/medspacy/common/regex_matcher.py:60: RuntimeWarning: You are using a TargetRule with a regex pattern, which is not natively supported in spacy and may lead to unexpected match spans. Consider using a list of dicts pattern instead. See https://spacy.io/usage/rule-based-matching\n",
      "  warnings.warn(\n",
      "/Users/alecchapman/opt/miniconda3/envs/medspacy_pneumonia/lib/python3.9/site-packages/medspacy-0.2.0.0-py3.9.egg/medspacy/common/regex_matcher.py:60: RuntimeWarning: You are using a TargetRule with a regex pattern, which is not natively supported in spacy and may lead to unexpected match spans. Consider using a list of dicts pattern instead. See https://spacy.io/usage/rule-based-matching\n",
      "  warnings.warn(\n",
      "/Users/alecchapman/opt/miniconda3/envs/medspacy_pneumonia/lib/python3.9/site-packages/medspacy-0.2.0.0-py3.9.egg/medspacy/common/regex_matcher.py:60: RuntimeWarning: You are using a TargetRule with a regex pattern, which is not natively supported in spacy and may lead to unexpected match spans. Consider using a list of dicts pattern instead. See https://spacy.io/usage/rule-based-matching\n",
      "  warnings.warn(\n",
      "/Users/alecchapman/opt/miniconda3/envs/medspacy_pneumonia/lib/python3.9/site-packages/medspacy-0.2.0.0-py3.9.egg/medspacy/common/regex_matcher.py:60: RuntimeWarning: You are using a TargetRule with a regex pattern, which is not natively supported in spacy and may lead to unexpected match spans. Consider using a list of dicts pattern instead. See https://spacy.io/usage/rule-based-matching\n",
      "  warnings.warn(\n",
      "/Users/alecchapman/opt/miniconda3/envs/medspacy_pneumonia/lib/python3.9/site-packages/medspacy-0.2.0.0-py3.9.egg/medspacy/common/regex_matcher.py:60: RuntimeWarning: You are using a TargetRule with a regex pattern, which is not natively supported in spacy and may lead to unexpected match spans. Consider using a list of dicts pattern instead. See https://spacy.io/usage/rule-based-matching\n",
      "  warnings.warn(\n"
     ]
    }
   ],
   "source": [
    "nlp = medspacy_pna.build_nlp(\"radiology\")"
   ]
  },
  {
   "cell_type": "code",
   "execution_count": 39,
   "id": "a45c364e",
   "metadata": {},
   "outputs": [
    {
     "data": {
      "text/plain": [
       "['tok2vec',\n",
       " 'tagger',\n",
       " 'parser',\n",
       " 'medspacy_concept_tagger',\n",
       " 'medspacy_target_matcher',\n",
       " 'medspacy_context',\n",
       " 'medspacy_sectionizer',\n",
       " 'medspacy_postprocessor',\n",
       " 'pneumonia_radiologydocumentclassifier']"
      ]
     },
     "execution_count": 39,
     "metadata": {},
     "output_type": "execute_result"
    }
   ],
   "source": [
    "nlp.pipe_names"
   ]
  },
  {
   "cell_type": "markdown",
   "id": "0c2b1c05",
   "metadata": {},
   "source": [
    "You can customize the NLP by adding new rules to the appropriate pipeline components. Here are two rules we added for the University of Utah data:"
   ]
  },
  {
   "cell_type": "code",
   "execution_count": 37,
   "id": "b0c52876",
   "metadata": {},
   "outputs": [],
   "source": [
    "from medspacy.context import ConTextRule"
   ]
  },
  {
   "cell_type": "code",
   "execution_count": 38,
   "id": "187b361b",
   "metadata": {},
   "outputs": [],
   "source": [
    "new_context_rules = [\n",
    "    ConTextRule(\"does not confirm\", \"NEGATED_EXISTENCE\", \"FORWARD\"),\n",
    "    ConTextRule(\"consistent with\", \"POSSIBLE_EXISTENCE\", \"FORWARD\"),\n",
    "]"
   ]
  },
  {
   "cell_type": "code",
   "execution_count": 40,
   "id": "afdcc210",
   "metadata": {},
   "outputs": [],
   "source": [
    "# Add to the context component\n",
    "nlp.get_pipe(\"medspacy_context\").add(new_context_rules)"
   ]
  },
  {
   "cell_type": "markdown",
   "id": "1c56d3aa",
   "metadata": {},
   "source": [
    "Example of processing a single doc:"
   ]
  },
  {
   "cell_type": "code",
   "execution_count": 41,
   "id": "228dbda9",
   "metadata": {
    "scrolled": true
   },
   "outputs": [
    {
     "name": "stderr",
     "output_type": "stream",
     "text": [
      "/Users/alecchapman/opt/miniconda3/envs/medspacy_pneumonia/lib/python3.9/site-packages/medspacy-0.2.0.0-py3.9.egg/medspacy/common/medspacy_matcher.py:80: UserWarning: [W036] The component 'matcher' does not have any patterns defined.\n",
      "  matches = self.matcher(doc)\n",
      "/Users/alecchapman/opt/miniconda3/envs/medspacy_pneumonia/lib/python3.9/site-packages/spacy-3.1.6-py3.9-macosx-10.9-x86_64.egg/spacy/displacy/__init__.py:65: DeprecationWarning: Importing display from IPython.core.display is deprecated since IPython 7.14, please import from IPython display\n",
      "  from IPython.core.display import display, HTML\n"
     ]
    },
    {
     "data": {
      "text/html": [
       "<span class=\"tex2jax_ignore\"><div class=\"entities\" style=\"line-height: 2.5; direction: ltr\">There is \n",
       "<mark class=\"entity\" style=\"background: #1f77b4; padding: 0.45em 0.6em; margin: 0 0.25em; line-height: 1; border-radius: 0.35em;\">\n",
       "    no evidence of\n",
       "    <span style=\"font-size: 0.8em; font-weight: bold; line-height: 1; border-radius: 0.35em; vertical-align: middle; margin-left: 0.5rem\">NEGATED_EXISTENCE</span>\n",
       "</mark>\n",
       " \n",
       "<mark class=\"entity\" style=\"background: #ff7f0e; padding: 0.45em 0.6em; margin: 0 0.25em; line-height: 1; border-radius: 0.35em;\">\n",
       "    pneumonia\n",
       "    <span style=\"font-size: 0.8em; font-weight: bold; line-height: 1; border-radius: 0.35em; vertical-align: middle; margin-left: 0.5rem\">PNEUMONIA</span>\n",
       "</mark>\n",
       ".</div></span>"
      ],
      "text/plain": [
       "<IPython.core.display.HTML object>"
      ]
     },
     "metadata": {},
     "output_type": "display_data"
    }
   ],
   "source": [
    "doc = nlp(\"There is no evidence of pneumonia.\")\n",
    "visualize_ent(doc)"
   ]
  },
  {
   "cell_type": "code",
   "execution_count": 42,
   "id": "2fcd2626",
   "metadata": {},
   "outputs": [
    {
     "data": {
      "text/plain": [
       "'NEG'"
      ]
     },
     "execution_count": 42,
     "metadata": {},
     "output_type": "execute_result"
    }
   ],
   "source": [
    "doc._.document_classification"
   ]
  },
  {
   "cell_type": "code",
   "execution_count": null,
   "id": "196ac651",
   "metadata": {},
   "outputs": [],
   "source": []
  },
  {
   "cell_type": "markdown",
   "id": "5483511c",
   "metadata": {},
   "source": [
    "# Process dataset\n",
    "## 1. Input"
   ]
  },
  {
   "cell_type": "code",
   "execution_count": 20,
   "id": "a872881c",
   "metadata": {},
   "outputs": [],
   "source": [
    "df = pd.read_excel(\"./dataset_demo.xlsx\")"
   ]
  },
  {
   "cell_type": "code",
   "execution_count": 21,
   "id": "b4cc2744",
   "metadata": {},
   "outputs": [
    {
     "data": {
      "text/html": [
       "<div>\n",
       "<style scoped>\n",
       "    .dataframe tbody tr th:only-of-type {\n",
       "        vertical-align: middle;\n",
       "    }\n",
       "\n",
       "    .dataframe tbody tr th {\n",
       "        vertical-align: top;\n",
       "    }\n",
       "\n",
       "    .dataframe thead th {\n",
       "        text-align: right;\n",
       "    }\n",
       "</style>\n",
       "<table border=\"1\" class=\"dataframe\">\n",
       "  <thead>\n",
       "    <tr style=\"text-align: right;\">\n",
       "      <th></th>\n",
       "      <th>encounter_id</th>\n",
       "      <th>text</th>\n",
       "    </tr>\n",
       "  </thead>\n",
       "  <tbody>\n",
       "    <tr>\n",
       "      <th>0</th>\n",
       "      <td>1</td>\n",
       "      <td>There are no opacities.</td>\n",
       "    </tr>\n",
       "    <tr>\n",
       "      <th>1</th>\n",
       "      <td>1</td>\n",
       "      <td>There may be some consolidation.</td>\n",
       "    </tr>\n",
       "    <tr>\n",
       "      <th>2</th>\n",
       "      <td>2</td>\n",
       "      <td>Impression: pneumonia</td>\n",
       "    </tr>\n",
       "  </tbody>\n",
       "</table>\n",
       "</div>"
      ],
      "text/plain": [
       "   encounter_id                              text\n",
       "0             1           There are no opacities.\n",
       "1             1  There may be some consolidation.\n",
       "2             2             Impression: pneumonia"
      ]
     },
     "execution_count": 21,
     "metadata": {},
     "output_type": "execute_result"
    }
   ],
   "source": [
    "df"
   ]
  },
  {
   "cell_type": "markdown",
   "id": "8163b807",
   "metadata": {},
   "source": [
    "## 2. Process notes and extract document classifications"
   ]
  },
  {
   "cell_type": "code",
   "execution_count": 43,
   "id": "3e251d4c",
   "metadata": {},
   "outputs": [
    {
     "name": "stderr",
     "output_type": "stream",
     "text": [
      "/Users/alecchapman/opt/miniconda3/envs/medspacy_pneumonia/lib/python3.9/site-packages/medspacy-0.2.0.0-py3.9.egg/medspacy/common/medspacy_matcher.py:80: UserWarning: [W036] The component 'matcher' does not have any patterns defined.\n",
      "  matches = self.matcher(doc)\n",
      "/Users/alecchapman/opt/miniconda3/envs/medspacy_pneumonia/lib/python3.9/site-packages/medspacy-0.2.0.0-py3.9.egg/medspacy/common/medspacy_matcher.py:80: UserWarning: [W036] The component 'matcher' does not have any patterns defined.\n",
      "  matches = self.matcher(doc)\n",
      "/Users/alecchapman/opt/miniconda3/envs/medspacy_pneumonia/lib/python3.9/site-packages/medspacy-0.2.0.0-py3.9.egg/medspacy/common/medspacy_matcher.py:80: UserWarning: [W036] The component 'matcher' does not have any patterns defined.\n",
      "  matches = self.matcher(doc)\n"
     ]
    }
   ],
   "source": [
    "docs = list(nlp.pipe(df[\"text\"]))"
   ]
  },
  {
   "cell_type": "code",
   "execution_count": 44,
   "id": "03e0554b",
   "metadata": {},
   "outputs": [
    {
     "data": {
      "text/plain": [
       "[There are no opacities.,\n",
       " There may be some consolidation.,\n",
       " Impression: pneumonia]"
      ]
     },
     "execution_count": 44,
     "metadata": {},
     "output_type": "execute_result"
    }
   ],
   "source": [
    "docs"
   ]
  },
  {
   "cell_type": "markdown",
   "id": "aa9139e8",
   "metadata": {},
   "source": [
    "The document classifier assigns one of three levels to each note: \"POS\" (positive); \"POSSIBLE\"; or \"NEG\" (negative). We can also group positive/possible together to get a binary classification."
   ]
  },
  {
   "cell_type": "code",
   "execution_count": 47,
   "id": "11254e4e",
   "metadata": {},
   "outputs": [],
   "source": [
    "doc_cls = [doc._.document_classification for doc in docs]"
   ]
  },
  {
   "cell_type": "code",
   "execution_count": 48,
   "id": "b7f9e6c3",
   "metadata": {},
   "outputs": [
    {
     "data": {
      "text/plain": [
       "['NEG', 'POSSIBLE', 'POS']"
      ]
     },
     "execution_count": 48,
     "metadata": {},
     "output_type": "execute_result"
    }
   ],
   "source": [
    "doc_cls"
   ]
  },
  {
   "cell_type": "code",
   "execution_count": 49,
   "id": "3634e680",
   "metadata": {},
   "outputs": [],
   "source": [
    "df[\"document_classification\"] = doc_cls"
   ]
  },
  {
   "cell_type": "code",
   "execution_count": 50,
   "id": "866a8349",
   "metadata": {},
   "outputs": [],
   "source": [
    "df[\"document_classification_bin\"] = [1*(cls != \"NEG\") for cls in doc_cls]"
   ]
  },
  {
   "cell_type": "code",
   "execution_count": 51,
   "id": "bb4c0755",
   "metadata": {},
   "outputs": [
    {
     "data": {
      "text/html": [
       "<div>\n",
       "<style scoped>\n",
       "    .dataframe tbody tr th:only-of-type {\n",
       "        vertical-align: middle;\n",
       "    }\n",
       "\n",
       "    .dataframe tbody tr th {\n",
       "        vertical-align: top;\n",
       "    }\n",
       "\n",
       "    .dataframe thead th {\n",
       "        text-align: right;\n",
       "    }\n",
       "</style>\n",
       "<table border=\"1\" class=\"dataframe\">\n",
       "  <thead>\n",
       "    <tr style=\"text-align: right;\">\n",
       "      <th></th>\n",
       "      <th>encounter_id</th>\n",
       "      <th>text</th>\n",
       "      <th>document_classification</th>\n",
       "      <th>document_classification_bin</th>\n",
       "    </tr>\n",
       "  </thead>\n",
       "  <tbody>\n",
       "    <tr>\n",
       "      <th>0</th>\n",
       "      <td>1</td>\n",
       "      <td>There are no opacities.</td>\n",
       "      <td>NEG</td>\n",
       "      <td>0</td>\n",
       "    </tr>\n",
       "    <tr>\n",
       "      <th>1</th>\n",
       "      <td>1</td>\n",
       "      <td>There may be some consolidation.</td>\n",
       "      <td>POSSIBLE</td>\n",
       "      <td>1</td>\n",
       "    </tr>\n",
       "    <tr>\n",
       "      <th>2</th>\n",
       "      <td>2</td>\n",
       "      <td>Impression: pneumonia</td>\n",
       "      <td>POS</td>\n",
       "      <td>1</td>\n",
       "    </tr>\n",
       "  </tbody>\n",
       "</table>\n",
       "</div>"
      ],
      "text/plain": [
       "   encounter_id                              text document_classification  \\\n",
       "0             1           There are no opacities.                     NEG   \n",
       "1             1  There may be some consolidation.                POSSIBLE   \n",
       "2             2             Impression: pneumonia                     POS   \n",
       "\n",
       "   document_classification_bin  \n",
       "0                            0  \n",
       "1                            1  \n",
       "2                            1  "
      ]
     },
     "execution_count": 51,
     "metadata": {},
     "output_type": "execute_result"
    }
   ],
   "source": [
    "df"
   ]
  },
  {
   "cell_type": "markdown",
   "id": "656a10d0",
   "metadata": {},
   "source": [
    "## 3. Output\n",
    "We can save a note-level table and an encounter-level table. For the encounter-level, we call the encounter positive if any of the notes have a \"Possible\" or \"Positive\" classification."
   ]
  },
  {
   "cell_type": "code",
   "execution_count": 52,
   "id": "9bed4fb5",
   "metadata": {},
   "outputs": [
    {
     "data": {
      "text/html": [
       "<div>\n",
       "<style scoped>\n",
       "    .dataframe tbody tr th:only-of-type {\n",
       "        vertical-align: middle;\n",
       "    }\n",
       "\n",
       "    .dataframe tbody tr th {\n",
       "        vertical-align: top;\n",
       "    }\n",
       "\n",
       "    .dataframe thead th {\n",
       "        text-align: right;\n",
       "    }\n",
       "</style>\n",
       "<table border=\"1\" class=\"dataframe\">\n",
       "  <thead>\n",
       "    <tr style=\"text-align: right;\">\n",
       "      <th></th>\n",
       "      <th>encounter_id</th>\n",
       "      <th>document_classification</th>\n",
       "      <th>document_classification_bin</th>\n",
       "    </tr>\n",
       "  </thead>\n",
       "  <tbody>\n",
       "    <tr>\n",
       "      <th>0</th>\n",
       "      <td>1</td>\n",
       "      <td>NEG</td>\n",
       "      <td>0</td>\n",
       "    </tr>\n",
       "    <tr>\n",
       "      <th>1</th>\n",
       "      <td>1</td>\n",
       "      <td>POSSIBLE</td>\n",
       "      <td>1</td>\n",
       "    </tr>\n",
       "    <tr>\n",
       "      <th>2</th>\n",
       "      <td>2</td>\n",
       "      <td>POS</td>\n",
       "      <td>1</td>\n",
       "    </tr>\n",
       "  </tbody>\n",
       "</table>\n",
       "</div>"
      ],
      "text/plain": [
       "   encounter_id document_classification  document_classification_bin\n",
       "0             1                     NEG                            0\n",
       "1             1                POSSIBLE                            1\n",
       "2             2                     POS                            1"
      ]
     },
     "execution_count": 52,
     "metadata": {},
     "output_type": "execute_result"
    }
   ],
   "source": [
    "df_out = df[[\"encounter_id\", \"document_classification\", \"document_classification_bin\"]]\n",
    "df_out"
   ]
  },
  {
   "cell_type": "code",
   "execution_count": 53,
   "id": "4d08e685",
   "metadata": {},
   "outputs": [],
   "source": [
    "df_out.to_excel(\"./output.xlsx\")"
   ]
  },
  {
   "cell_type": "code",
   "execution_count": 54,
   "id": "92693334",
   "metadata": {},
   "outputs": [
    {
     "data": {
      "text/html": [
       "<div>\n",
       "<style scoped>\n",
       "    .dataframe tbody tr th:only-of-type {\n",
       "        vertical-align: middle;\n",
       "    }\n",
       "\n",
       "    .dataframe tbody tr th {\n",
       "        vertical-align: top;\n",
       "    }\n",
       "\n",
       "    .dataframe thead th {\n",
       "        text-align: right;\n",
       "    }\n",
       "</style>\n",
       "<table border=\"1\" class=\"dataframe\">\n",
       "  <thead>\n",
       "    <tr style=\"text-align: right;\">\n",
       "      <th></th>\n",
       "      <th>document_classification_bin</th>\n",
       "    </tr>\n",
       "    <tr>\n",
       "      <th>encounter_id</th>\n",
       "      <th></th>\n",
       "    </tr>\n",
       "  </thead>\n",
       "  <tbody>\n",
       "    <tr>\n",
       "      <th>1</th>\n",
       "      <td>1</td>\n",
       "    </tr>\n",
       "    <tr>\n",
       "      <th>2</th>\n",
       "      <td>1</td>\n",
       "    </tr>\n",
       "  </tbody>\n",
       "</table>\n",
       "</div>"
      ],
      "text/plain": [
       "              document_classification_bin\n",
       "encounter_id                             \n",
       "1                                       1\n",
       "2                                       1"
      ]
     },
     "execution_count": 54,
     "metadata": {},
     "output_type": "execute_result"
    }
   ],
   "source": [
    "df_encounter = df_out.groupby(\"encounter_id\")[\"document_classification_bin\"].max().to_frame()\n",
    "df_encounter"
   ]
  },
  {
   "cell_type": "code",
   "execution_count": 55,
   "id": "1c2b91ab",
   "metadata": {},
   "outputs": [],
   "source": [
    "df_encounter.to_excel(\"./encounter_level.xlsx\")"
   ]
  },
  {
   "cell_type": "code",
   "execution_count": null,
   "id": "c2c81246",
   "metadata": {},
   "outputs": [],
   "source": []
  }
 ],
 "metadata": {
  "kernelspec": {
   "display_name": "Python 3 (ipykernel)",
   "language": "python",
   "name": "python3"
  },
  "language_info": {
   "codemirror_mode": {
    "name": "ipython",
    "version": 3
   },
   "file_extension": ".py",
   "mimetype": "text/x-python",
   "name": "python",
   "nbconvert_exporter": "python",
   "pygments_lexer": "ipython3",
   "version": "3.9.12"
  }
 },
 "nbformat": 4,
 "nbformat_minor": 5
}
